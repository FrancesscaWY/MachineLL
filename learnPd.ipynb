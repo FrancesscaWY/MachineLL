{
 "cells": [
  {
   "cell_type": "code",
   "execution_count": 2,
   "id": "0622c6f7-a9fd-409d-a995-5e1c1e4626ba",
   "metadata": {},
   "outputs": [],
   "source": [
    "import pandas as pd\n",
    "import numpy as np"
   ]
  },
  {
   "cell_type": "code",
   "execution_count": null,
   "id": "977d8f67-a2a5-47d3-b5e3-d655a641e467",
   "metadata": {},
   "outputs": [],
   "source": [
    "stock_change = np.random.normal(0,1(10,5))"
   ]
  },
  {
   "cell_type": "code",
   "execution_count": null,
   "id": "1cc4ab0d-ddb7-4503-b355-4dd95a954232",
   "metadata": {},
   "outputs": [],
   "source": []
  }
 ],
 "metadata": {
  "kernelspec": {
   "display_name": "Python 3 (ipykernel)",
   "language": "python",
   "name": "python3"
  },
  "language_info": {
   "codemirror_mode": {
    "name": "ipython",
    "version": 3
   },
   "file_extension": ".py",
   "mimetype": "text/x-python",
   "name": "python",
   "nbconvert_exporter": "python",
   "pygments_lexer": "ipython3",
   "version": "3.12.7"
  }
 },
 "nbformat": 4,
 "nbformat_minor": 5
}
